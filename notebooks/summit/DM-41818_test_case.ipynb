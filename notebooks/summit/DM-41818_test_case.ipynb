{
 "cells": [
  {
   "cell_type": "markdown",
   "id": "2f6dcfb3-ec3f-437e-aab9-d6c6bf5c56c6",
   "metadata": {},
   "source": [
    "# TEST CASE FOR TELEMETRY FLOW ISSUE AT M2\n",
    "The intention of this notebook is to show the irregular telemetry flow for the M2 that could affect the data analysis of the verification tests.\n",
    "\n",
    "The efd fields `lsst.sal.MTM2.forceErrorTangent` and `lsst.sal.MTM2.tangentForce` will be used as case study. The aim is to demostrate that the former is a calculation of the latter using the function `_calculate_force_error_tangent()` of the `MockModel` class within the `lsst.ts.m2com.mock` util library.\n",
    "\n",
    "During the experiment it will become clear the inconsistency between the two fields, due to the telemetry issue."
   ]
  },
  {
   "cell_type": "markdown",
   "id": "59c87611-5940-4887-8e60-4acd946341cd",
   "metadata": {},
   "source": [
    "## IMPORT MODULES"
   ]
  },
  {
   "cell_type": "code",
   "execution_count": 1,
   "id": "7948901a-29d7-4276-a82a-cf00fb45f284",
   "metadata": {
    "execution": {
     "iopub.execute_input": "2023-11-21T22:58:27.548355Z",
     "iopub.status.busy": "2023-11-21T22:58:27.547942Z",
     "iopub.status.idle": "2023-11-21T22:58:28.750617Z",
     "shell.execute_reply": "2023-11-21T22:58:28.750047Z",
     "shell.execute_reply.started": "2023-11-21T22:58:27.548326Z"
    }
   },
   "outputs": [
    {
     "data": {
      "text/html": [
       "<pre style=\"margin: 0.1em;\n",
       "padding-left: 0.25em;\n",
       "border-left-style: solid;\n",
       "font-family: var(--jp-code-font-family);\n",
       "font-size: var(--jp-code-font-size);\n",
       "line-height: var(--jp-code-line-height);\n",
       "\"><span style=\"color: var(--jp-warn-color2)\">lsst.ts.utils.tai</span> <span style=\"color: var(--jp-info-color0)\">INFO</span>: Update leap second table</pre>"
      ],
      "text/plain": [
       "<IPython.core.display.HTML object>"
      ]
     },
     "metadata": {},
     "output_type": "display_data"
    },
    {
     "data": {
      "text/html": [
       "<pre style=\"margin: 0.1em;\n",
       "padding-left: 0.25em;\n",
       "border-left-style: solid;\n",
       "font-family: var(--jp-code-font-family);\n",
       "font-size: var(--jp-code-font-size);\n",
       "line-height: var(--jp-code-line-height);\n",
       "\"><span style=\"color: var(--jp-warn-color2)\">lsst.ts.utils.tai</span> <span style=\"color: var(--jp-info-color0)\">INFO</span>: current_tai uses the system TAI clock</pre>"
      ],
      "text/plain": [
       "<IPython.core.display.HTML object>"
      ]
     },
     "metadata": {},
     "output_type": "display_data"
    }
   ],
   "source": [
    "import lsst_efd_client\n",
    "from astropy.time import Time\n",
    "from pandas import Timedelta\n",
    "import numpy as np\n",
    "import matplotlib.pyplot as plt\n",
    "from lsst.ts.m2com.mock import MockModel\n",
    "import pandas"
   ]
  },
  {
   "cell_type": "markdown",
   "id": "4eb109d3-44f7-4557-8081-5d1feab03822",
   "metadata": {},
   "source": [
    "Let's retrieve the two fields with two different query to the efd client."
   ]
  },
  {
   "cell_type": "code",
   "execution_count": 2,
   "id": "8e37251d-6d55-4905-835e-8614a71521b3",
   "metadata": {
    "execution": {
     "iopub.execute_input": "2023-11-21T22:58:31.050249Z",
     "iopub.status.busy": "2023-11-21T22:58:31.049762Z",
     "iopub.status.idle": "2023-11-21T22:58:33.271648Z",
     "shell.execute_reply": "2023-11-21T22:58:33.270716Z",
     "shell.execute_reply.started": "2023-11-21T22:58:31.050207Z"
    }
   },
   "outputs": [],
   "source": [
    "efd_client = lsst_efd_client.EfdClient(efd_name=\"usdf_efd\")\n",
    "start_time = Time(\"2023-11-16T15:33:00.000\", format=\"isot\")\n",
    "end_time = Time(\"2023-11-16T15:36:00.000\", format=\"isot\")"
   ]
  },
  {
   "cell_type": "code",
   "execution_count": 3,
   "id": "a91a9196-5457-402a-b047-7327a727a742",
   "metadata": {
    "execution": {
     "iopub.execute_input": "2023-11-21T22:58:35.849015Z",
     "iopub.status.busy": "2023-11-21T22:58:35.848508Z",
     "iopub.status.idle": "2023-11-21T22:58:37.584639Z",
     "shell.execute_reply": "2023-11-21T22:58:37.584011Z",
     "shell.execute_reply.started": "2023-11-21T22:58:35.848984Z"
    }
   },
   "outputs": [],
   "source": [
    "topic = \"lsst.sal.MTM2.forceErrorTangent\"\n",
    "topic_fields = await efd_client.get_fields(topic)\n",
    "query = efd_client.build_time_range_query(\n",
    "            topic, topic_fields, start_time, end_time\n",
    "        )\n",
    "tangent_ferror_from_efd = await efd_client.influx_client.query(query)"
   ]
  },
  {
   "cell_type": "code",
   "execution_count": 4,
   "id": "89ae61df-eb0d-4674-9703-cfb78c4cf5ba",
   "metadata": {
    "execution": {
     "iopub.execute_input": "2023-11-21T22:58:40.029773Z",
     "iopub.status.busy": "2023-11-21T22:58:40.029229Z",
     "iopub.status.idle": "2023-11-21T22:58:40.580240Z",
     "shell.execute_reply": "2023-11-21T22:58:40.579293Z",
     "shell.execute_reply.started": "2023-11-21T22:58:40.029742Z"
    }
   },
   "outputs": [],
   "source": [
    "topic = \"lsst.sal.MTM2.tangentForce\"\n",
    "topic_fields = await efd_client.get_fields(topic)\n",
    "query = efd_client.build_time_range_query(\n",
    "            topic, topic_fields, start_time, end_time\n",
    "        )\n",
    "tangent_force = await efd_client.influx_client.query(query)"
   ]
  },
  {
   "cell_type": "markdown",
   "id": "72cc39e3-70b0-4a08-bd8d-ec2d95f1ed79",
   "metadata": {},
   "source": [
    "At this point we can inspect the length of the two dataframe.\n",
    "\n",
    "If the Tangent Force error is a calculation from the Measured Tangent Force, the two dataframe should have the same length."
   ]
  },
  {
   "cell_type": "code",
   "execution_count": 12,
   "id": "4e27168b-628b-46c4-b895-54c5fc7dcc9e",
   "metadata": {
    "execution": {
     "iopub.execute_input": "2023-11-21T23:08:47.898224Z",
     "iopub.status.busy": "2023-11-21T23:08:47.897730Z",
     "iopub.status.idle": "2023-11-21T23:08:47.903558Z",
     "shell.execute_reply": "2023-11-21T23:08:47.902634Z",
     "shell.execute_reply.started": "2023-11-21T23:08:47.898196Z"
    }
   },
   "outputs": [
    {
     "name": "stdout",
     "output_type": "stream",
     "text": [
      "Tangent Force Error DataFrame: \n",
      "nrow = 1783 ncol = 16\n",
      "Measured Tangent Force DataFrame: \n",
      "nrow = 16 ncol = 38\n"
     ]
    }
   ],
   "source": [
    "print(f'Tangent Force Error DataFrame: \\nnrow = {tangent_ferror_from_efd.shape[0]} '\n",
    "     f'ncol = {tangent_ferror_from_efd.shape[1]}')\n",
    "print(f'Measured Tangent Force DataFrame: \\nnrow = {tangent_force.shape[0]} ' \n",
    "      f'ncol = {tangent_force.shape[1]}')"
   ]
  },
  {
   "cell_type": "markdown",
   "id": "19a46222-7131-42be-8241-473b22f762de",
   "metadata": {},
   "source": [
    "So already at this stage the two telemtry are not consistent. But let's check if the Tangent Force error is calculated from the Tangent force for real.\n",
    "\n",
    "Let's define a function that use the [MockModel()._calculate_force_error_tangent()](https://github.com/lsst-ts/ts_m2com/blob/develop/python/lsst/ts/m2com/mock/mock_model.py#L645-L710) function to calculate the Tangent Force Error from the Measured Tangent Force"
   ]
  },
  {
   "cell_type": "code",
   "execution_count": 18,
   "id": "8e1a37ed-1ebc-4552-a25e-3cfde07c4389",
   "metadata": {
    "execution": {
     "iopub.execute_input": "2023-11-21T23:17:29.466885Z",
     "iopub.status.busy": "2023-11-21T23:17:29.466369Z",
     "iopub.status.idle": "2023-11-21T23:17:29.474821Z",
     "shell.execute_reply": "2023-11-21T23:17:29.473981Z",
     "shell.execute_reply.started": "2023-11-21T23:17:29.466856Z"
    }
   },
   "outputs": [],
   "source": [
    "def get_force_error_df(data: pandas.DataFrame) -> pandas.DataFrame:\n",
    "\n",
    "    \n",
    "    cols = ['force0', 'force1', 'force2', 'force3', 'force4','force5', 'sum', 'weight']\n",
    "    df = pandas.DataFrame(columns=cols)\n",
    "    for row in data.iterrows():\n",
    "        tangent_force_error = MockModel()._calculate_force_error_tangent(np.array([row[1]['measured0'],\n",
    "                                                                         row[1]['measured1'],\n",
    "                                                                         row[1]['measured2'],\n",
    "                                                                         row[1]['measured3'],\n",
    "                                                                         row[1]['measured4'],\n",
    "                                                                         row[1]['measured5']\n",
    "                                                                         ]))\n",
    "        \n",
    "        df.loc[row[0], cols[:-2]] = tangent_force_error['force']\n",
    "        df.loc[row[0], cols[-2]] = tangent_force_error['weight']\n",
    "        df.loc[row[0], cols[-1]] = tangent_force_error['sum']\n",
    "\n",
    "    return df"
   ]
  },
  {
   "cell_type": "markdown",
   "id": "95a0a2cc-e03f-4424-9f54-ef1302e5810a",
   "metadata": {},
   "source": [
    "We can use this function to create a new Tangent Force Error dataframe, calculated form scratch."
   ]
  },
  {
   "cell_type": "code",
   "execution_count": 20,
   "id": "a9588756-8619-447c-83bd-42a14d63dea1",
   "metadata": {
    "execution": {
     "iopub.execute_input": "2023-11-21T23:18:06.292406Z",
     "iopub.status.busy": "2023-11-21T23:18:06.291982Z",
     "iopub.status.idle": "2023-11-21T23:18:06.464743Z",
     "shell.execute_reply": "2023-11-21T23:18:06.464038Z",
     "shell.execute_reply.started": "2023-11-21T23:18:06.292384Z"
    }
   },
   "outputs": [
    {
     "data": {
      "text/html": [
       "<div>\n",
       "<style scoped>\n",
       "    .dataframe tbody tr th:only-of-type {\n",
       "        vertical-align: middle;\n",
       "    }\n",
       "\n",
       "    .dataframe tbody tr th {\n",
       "        vertical-align: top;\n",
       "    }\n",
       "\n",
       "    .dataframe thead th {\n",
       "        text-align: right;\n",
       "    }\n",
       "</style>\n",
       "<table border=\"1\" class=\"dataframe\">\n",
       "  <thead>\n",
       "    <tr style=\"text-align: right;\">\n",
       "      <th></th>\n",
       "      <th>force0</th>\n",
       "      <th>force1</th>\n",
       "      <th>force2</th>\n",
       "      <th>force3</th>\n",
       "      <th>force4</th>\n",
       "      <th>force5</th>\n",
       "      <th>sum</th>\n",
       "      <th>weight</th>\n",
       "    </tr>\n",
       "  </thead>\n",
       "  <tbody>\n",
       "    <tr>\n",
       "      <th>2023-11-16 15:33:07.258156+00:00</th>\n",
       "      <td>47.99</td>\n",
       "      <td>-122.187524</td>\n",
       "      <td>-14.878316</td>\n",
       "      <td>-6.36</td>\n",
       "      <td>49.285506</td>\n",
       "      <td>35.905413</td>\n",
       "      <td>222.25676</td>\n",
       "      <td>-18.27</td>\n",
       "    </tr>\n",
       "    <tr>\n",
       "      <th>2023-11-16 15:33:08.500423+00:00</th>\n",
       "      <td>48.9</td>\n",
       "      <td>-122.37805</td>\n",
       "      <td>-15.294009</td>\n",
       "      <td>-6.31</td>\n",
       "      <td>49.138281</td>\n",
       "      <td>35.853452</td>\n",
       "      <td>222.663792</td>\n",
       "      <td>-18.24</td>\n",
       "    </tr>\n",
       "    <tr>\n",
       "      <th>2023-11-16 15:33:29.426814+00:00</th>\n",
       "      <td>48.37</td>\n",
       "      <td>-122.37805</td>\n",
       "      <td>-14.878316</td>\n",
       "      <td>-7.34</td>\n",
       "      <td>50.255454</td>\n",
       "      <td>35.992016</td>\n",
       "      <td>223.503836</td>\n",
       "      <td>-17.87</td>\n",
       "    </tr>\n",
       "    <tr>\n",
       "      <th>2023-11-16 15:33:29.530469+00:00</th>\n",
       "      <td>47.99</td>\n",
       "      <td>-123.166133</td>\n",
       "      <td>-15.718361</td>\n",
       "      <td>-7.66</td>\n",
       "      <td>49.839762</td>\n",
       "      <td>36.321105</td>\n",
       "      <td>225.045361</td>\n",
       "      <td>-20.55</td>\n",
       "    </tr>\n",
       "    <tr>\n",
       "      <th>2023-11-16 15:33:33.404938+00:00</th>\n",
       "      <td>47.72</td>\n",
       "      <td>-123.261396</td>\n",
       "      <td>-15.250707</td>\n",
       "      <td>-3.24</td>\n",
       "      <td>49.605935</td>\n",
       "      <td>35.714888</td>\n",
       "      <td>223.832926</td>\n",
       "      <td>-16.94</td>\n",
       "    </tr>\n",
       "  </tbody>\n",
       "</table>\n",
       "</div>"
      ],
      "text/plain": [
       "                                 force0      force1     force2 force3  \\\n",
       "2023-11-16 15:33:07.258156+00:00  47.99 -122.187524 -14.878316  -6.36   \n",
       "2023-11-16 15:33:08.500423+00:00   48.9  -122.37805 -15.294009  -6.31   \n",
       "2023-11-16 15:33:29.426814+00:00  48.37  -122.37805 -14.878316  -7.34   \n",
       "2023-11-16 15:33:29.530469+00:00  47.99 -123.166133 -15.718361  -7.66   \n",
       "2023-11-16 15:33:33.404938+00:00  47.72 -123.261396 -15.250707  -3.24   \n",
       "\n",
       "                                     force4     force5         sum weight  \n",
       "2023-11-16 15:33:07.258156+00:00  49.285506  35.905413   222.25676 -18.27  \n",
       "2023-11-16 15:33:08.500423+00:00  49.138281  35.853452  222.663792 -18.24  \n",
       "2023-11-16 15:33:29.426814+00:00  50.255454  35.992016  223.503836 -17.87  \n",
       "2023-11-16 15:33:29.530469+00:00  49.839762  36.321105  225.045361 -20.55  \n",
       "2023-11-16 15:33:33.404938+00:00  49.605935  35.714888  223.832926 -16.94  "
      ]
     },
     "execution_count": 20,
     "metadata": {},
     "output_type": "execute_result"
    }
   ],
   "source": [
    "calculate_tangent_ferror = get_force_error_df(tangent_force)\n",
    "calculate_tangent_ferror.head()"
   ]
  },
  {
   "cell_type": "markdown",
   "id": "bffc7dcc-14cb-4f4e-b1fa-be20c50b6dcc",
   "metadata": {},
   "source": [
    "Now match the calculated Tangent Force Error with the one retrieve from efd.\n",
    "We will use just one Tangent Force Error to mantain this notebook lightweight."
   ]
  },
  {
   "cell_type": "code",
   "execution_count": 23,
   "id": "ef25d0e9-76b0-4f7e-b4fc-12c75f85a9e0",
   "metadata": {
    "execution": {
     "iopub.execute_input": "2023-11-21T23:23:34.116587Z",
     "iopub.status.busy": "2023-11-21T23:23:34.115732Z",
     "iopub.status.idle": "2023-11-21T23:23:34.258443Z",
     "shell.execute_reply": "2023-11-21T23:23:34.257903Z",
     "shell.execute_reply.started": "2023-11-21T23:23:34.116555Z"
    }
   },
   "outputs": [
    {
     "data": {
      "image/png": "[encoded data removed]",
      "text/plain": [
       "<Figure size 640x480 with 1 Axes>"
      ]
     },
     "metadata": {},
     "output_type": "display_data"
    }
   ],
   "source": [
    "plt.scatter(tangent_ferror_from_efd.index, tangent_ferror_from_efd.force1,\n",
    "           marker='+', c='blue', label='From EFD')\n",
    "plt.scatter(calculate_tangent_ferror.index, calculate_tangent_ferror.force1,\n",
    "           marker='+', c='orange', label='Calculated')\n",
    "plt.xlabel('TimeStamp')\n",
    "plt.ylabel('Force Error, N')\n",
    "plt.legend()\n",
    "plt.show()"
   ]
  },
  {
   "cell_type": "markdown",
   "id": "d2b2b5ad-257f-4d35-9a46-516f10978eab",
   "metadata": {},
   "source": [
    "Let's match the two dataframe in order to compare only the data caluclate and the correspetive one taken from the EFD.\n",
    "\n",
    "It is possible do this using the [`lsst_efd_client.rendezvous_dataframes()`](https://efd-client.lsst.io/api/lsst_efd_client.rendezvous_dataframes.html), that match two dataframes using the TimeIndex fo them."
   ]
  },
  {
   "cell_type": "code",
   "execution_count": 38,
   "id": "49e088ee-624a-4bab-9670-1117056ff9f2",
   "metadata": {
    "execution": {
     "iopub.execute_input": "2023-11-21T23:31:22.905235Z",
     "iopub.status.busy": "2023-11-21T23:31:22.904146Z",
     "iopub.status.idle": "2023-11-21T23:31:22.914097Z",
     "shell.execute_reply": "2023-11-21T23:31:22.913155Z",
     "shell.execute_reply.started": "2023-11-21T23:31:22.905192Z"
    }
   },
   "outputs": [],
   "source": [
    "tol = Timedelta(seconds=1.0)\n",
    "match_df = lsst_efd_client.rendezvous_dataframes(\n",
    "    calculate_tangent_ferror, tangent_ferror_from_efd,\n",
    "    direction=\"nearest\", tolerance=tol,\n",
    "    suffixes=[f\"_{'TangentFerrorCalc'}\", f\"_{'TangentFerrorEfd'}\"])"
   ]
  },
  {
   "cell_type": "code",
   "execution_count": 41,
   "id": "d1630013-56cc-4881-8cf3-3f53635d3e11",
   "metadata": {
    "execution": {
     "iopub.execute_input": "2023-11-21T23:34:31.603626Z",
     "iopub.status.busy": "2023-11-21T23:34:31.603280Z",
     "iopub.status.idle": "2023-11-21T23:34:31.627985Z",
     "shell.execute_reply": "2023-11-21T23:34:31.627373Z",
     "shell.execute_reply.started": "2023-11-21T23:34:31.603600Z"
    }
   },
   "outputs": [
    {
     "data": {
      "text/html": [
       "<div>\n",
       "<style scoped>\n",
       "    .dataframe tbody tr th:only-of-type {\n",
       "        vertical-align: middle;\n",
       "    }\n",
       "\n",
       "    .dataframe tbody tr th {\n",
       "        vertical-align: top;\n",
       "    }\n",
       "\n",
       "    .dataframe thead th {\n",
       "        text-align: right;\n",
       "    }\n",
       "</style>\n",
       "<table border=\"1\" class=\"dataframe\">\n",
       "  <thead>\n",
       "    <tr style=\"text-align: right;\">\n",
       "      <th></th>\n",
       "      <th>force0_TangentFerrorCalc</th>\n",
       "      <th>force1_TangentFerrorCalc</th>\n",
       "      <th>force2_TangentFerrorCalc</th>\n",
       "      <th>force3_TangentFerrorCalc</th>\n",
       "      <th>force4_TangentFerrorCalc</th>\n",
       "      <th>force5_TangentFerrorCalc</th>\n",
       "      <th>sum_TangentFerrorCalc</th>\n",
       "      <th>weight_TangentFerrorCalc</th>\n",
       "      <th>force0_TangentFerrorEfd</th>\n",
       "      <th>force1_TangentFerrorEfd</th>\n",
       "      <th>...</th>\n",
       "      <th>private_efdStamp</th>\n",
       "      <th>private_identity</th>\n",
       "      <th>private_kafkaStamp</th>\n",
       "      <th>private_origin</th>\n",
       "      <th>private_rcvStamp</th>\n",
       "      <th>private_revCode</th>\n",
       "      <th>private_seqNum</th>\n",
       "      <th>private_sndStamp</th>\n",
       "      <th>sum_TangentFerrorEfd</th>\n",
       "      <th>weight_TangentFerrorEfd</th>\n",
       "    </tr>\n",
       "  </thead>\n",
       "  <tbody>\n",
       "    <tr>\n",
       "      <th>2023-11-16 15:33:07.258156+00:00</th>\n",
       "      <td>47.99</td>\n",
       "      <td>-122.187524</td>\n",
       "      <td>-14.878316</td>\n",
       "      <td>-6.36</td>\n",
       "      <td>49.285506</td>\n",
       "      <td>35.905413</td>\n",
       "      <td>222.25676</td>\n",
       "      <td>-18.27</td>\n",
       "      <td>47.99</td>\n",
       "      <td>-111.16</td>\n",
       "      <td>...</td>\n",
       "      <td>1.700149e+09</td>\n",
       "      <td>MTM2</td>\n",
       "      <td>1.700149e+09</td>\n",
       "      <td>52859</td>\n",
       "      <td>1.700149e+09</td>\n",
       "      <td>b9e7700c</td>\n",
       "      <td>1506349</td>\n",
       "      <td>1.700149e+09</td>\n",
       "      <td>-18.28</td>\n",
       "      <td>178.12</td>\n",
       "    </tr>\n",
       "    <tr>\n",
       "      <th>2023-11-16 15:33:08.500423+00:00</th>\n",
       "      <td>48.9</td>\n",
       "      <td>-122.37805</td>\n",
       "      <td>-15.294009</td>\n",
       "      <td>-6.31</td>\n",
       "      <td>49.138281</td>\n",
       "      <td>35.853452</td>\n",
       "      <td>222.663792</td>\n",
       "      <td>-18.24</td>\n",
       "      <td>48.90</td>\n",
       "      <td>-111.21</td>\n",
       "      <td>...</td>\n",
       "      <td>1.700149e+09</td>\n",
       "      <td>MTM2</td>\n",
       "      <td>1.700149e+09</td>\n",
       "      <td>52859</td>\n",
       "      <td>1.700149e+09</td>\n",
       "      <td>b9e7700c</td>\n",
       "      <td>1506361</td>\n",
       "      <td>1.700149e+09</td>\n",
       "      <td>-18.23</td>\n",
       "      <td>178.01</td>\n",
       "    </tr>\n",
       "    <tr>\n",
       "      <th>2023-11-16 15:33:29.426814+00:00</th>\n",
       "      <td>48.37</td>\n",
       "      <td>-122.37805</td>\n",
       "      <td>-14.878316</td>\n",
       "      <td>-7.34</td>\n",
       "      <td>50.255454</td>\n",
       "      <td>35.992016</td>\n",
       "      <td>223.503836</td>\n",
       "      <td>-17.87</td>\n",
       "      <td>48.37</td>\n",
       "      <td>-111.14</td>\n",
       "      <td>...</td>\n",
       "      <td>1.700149e+09</td>\n",
       "      <td>MTM2</td>\n",
       "      <td>1.700149e+09</td>\n",
       "      <td>52859</td>\n",
       "      <td>1.700149e+09</td>\n",
       "      <td>b9e7700c</td>\n",
       "      <td>1506568</td>\n",
       "      <td>1.700149e+09</td>\n",
       "      <td>-17.86</td>\n",
       "      <td>178.58</td>\n",
       "    </tr>\n",
       "    <tr>\n",
       "      <th>2023-11-16 15:33:29.530469+00:00</th>\n",
       "      <td>47.99</td>\n",
       "      <td>-123.166133</td>\n",
       "      <td>-15.718361</td>\n",
       "      <td>-7.66</td>\n",
       "      <td>49.839762</td>\n",
       "      <td>36.321105</td>\n",
       "      <td>225.045361</td>\n",
       "      <td>-20.55</td>\n",
       "      <td>47.99</td>\n",
       "      <td>-111.80</td>\n",
       "      <td>...</td>\n",
       "      <td>1.700149e+09</td>\n",
       "      <td>MTM2</td>\n",
       "      <td>1.700149e+09</td>\n",
       "      <td>52859</td>\n",
       "      <td>1.700149e+09</td>\n",
       "      <td>b9e7700c</td>\n",
       "      <td>1506569</td>\n",
       "      <td>1.700149e+09</td>\n",
       "      <td>-20.55</td>\n",
       "      <td>179.60</td>\n",
       "    </tr>\n",
       "    <tr>\n",
       "      <th>2023-11-16 15:33:33.404938+00:00</th>\n",
       "      <td>47.72</td>\n",
       "      <td>-123.261396</td>\n",
       "      <td>-15.250707</td>\n",
       "      <td>-3.24</td>\n",
       "      <td>49.605935</td>\n",
       "      <td>35.714888</td>\n",
       "      <td>223.832926</td>\n",
       "      <td>-16.94</td>\n",
       "      <td>47.72</td>\n",
       "      <td>-111.83</td>\n",
       "      <td>...</td>\n",
       "      <td>1.700149e+09</td>\n",
       "      <td>MTM2</td>\n",
       "      <td>1.700149e+09</td>\n",
       "      <td>52859</td>\n",
       "      <td>1.700149e+09</td>\n",
       "      <td>b9e7700c</td>\n",
       "      <td>1506607</td>\n",
       "      <td>1.700149e+09</td>\n",
       "      <td>-16.93</td>\n",
       "      <td>178.12</td>\n",
       "    </tr>\n",
       "  </tbody>\n",
       "</table>\n",
       "<p>5 rows × 24 columns</p>\n",
       "</div>"
      ],
      "text/plain": [
       "                                 force0_TangentFerrorCalc  \\\n",
       "2023-11-16 15:33:07.258156+00:00                    47.99   \n",
       "2023-11-16 15:33:08.500423+00:00                     48.9   \n",
       "2023-11-16 15:33:29.426814+00:00                    48.37   \n",
       "2023-11-16 15:33:29.530469+00:00                    47.99   \n",
       "2023-11-16 15:33:33.404938+00:00                    47.72   \n",
       "\n",
       "                                 force1_TangentFerrorCalc  \\\n",
       "2023-11-16 15:33:07.258156+00:00              -122.187524   \n",
       "2023-11-16 15:33:08.500423+00:00               -122.37805   \n",
       "2023-11-16 15:33:29.426814+00:00               -122.37805   \n",
       "2023-11-16 15:33:29.530469+00:00              -123.166133   \n",
       "2023-11-16 15:33:33.404938+00:00              -123.261396   \n",
       "\n",
       "                                 force2_TangentFerrorCalc  \\\n",
       "2023-11-16 15:33:07.258156+00:00               -14.878316   \n",
       "2023-11-16 15:33:08.500423+00:00               -15.294009   \n",
       "2023-11-16 15:33:29.426814+00:00               -14.878316   \n",
       "2023-11-16 15:33:29.530469+00:00               -15.718361   \n",
       "2023-11-16 15:33:33.404938+00:00               -15.250707   \n",
       "\n",
       "                                 force3_TangentFerrorCalc  \\\n",
       "2023-11-16 15:33:07.258156+00:00                    -6.36   \n",
       "2023-11-16 15:33:08.500423+00:00                    -6.31   \n",
       "2023-11-16 15:33:29.426814+00:00                    -7.34   \n",
       "2023-11-16 15:33:29.530469+00:00                    -7.66   \n",
       "2023-11-16 15:33:33.404938+00:00                    -3.24   \n",
       "\n",
       "                                 force4_TangentFerrorCalc  \\\n",
       "2023-11-16 15:33:07.258156+00:00                49.285506   \n",
       "2023-11-16 15:33:08.500423+00:00                49.138281   \n",
       "2023-11-16 15:33:29.426814+00:00                50.255454   \n",
       "2023-11-16 15:33:29.530469+00:00                49.839762   \n",
       "2023-11-16 15:33:33.404938+00:00                49.605935   \n",
       "\n",
       "                                 force5_TangentFerrorCalc  \\\n",
       "2023-11-16 15:33:07.258156+00:00                35.905413   \n",
       "2023-11-16 15:33:08.500423+00:00                35.853452   \n",
       "2023-11-16 15:33:29.426814+00:00                35.992016   \n",
       "2023-11-16 15:33:29.530469+00:00                36.321105   \n",
       "2023-11-16 15:33:33.404938+00:00                35.714888   \n",
       "\n",
       "                                 sum_TangentFerrorCalc  \\\n",
       "2023-11-16 15:33:07.258156+00:00             222.25676   \n",
       "2023-11-16 15:33:08.500423+00:00            222.663792   \n",
       "2023-11-16 15:33:29.426814+00:00            223.503836   \n",
       "2023-11-16 15:33:29.530469+00:00            225.045361   \n",
       "2023-11-16 15:33:33.404938+00:00            223.832926   \n",
       "\n",
       "                                 weight_TangentFerrorCalc  \\\n",
       "2023-11-16 15:33:07.258156+00:00                   -18.27   \n",
       "2023-11-16 15:33:08.500423+00:00                   -18.24   \n",
       "2023-11-16 15:33:29.426814+00:00                   -17.87   \n",
       "2023-11-16 15:33:29.530469+00:00                   -20.55   \n",
       "2023-11-16 15:33:33.404938+00:00                   -16.94   \n",
       "\n",
       "                                  force0_TangentFerrorEfd  \\\n",
       "2023-11-16 15:33:07.258156+00:00                    47.99   \n",
       "2023-11-16 15:33:08.500423+00:00                    48.90   \n",
       "2023-11-16 15:33:29.426814+00:00                    48.37   \n",
       "2023-11-16 15:33:29.530469+00:00                    47.99   \n",
       "2023-11-16 15:33:33.404938+00:00                    47.72   \n",
       "\n",
       "                                  force1_TangentFerrorEfd  ...  \\\n",
       "2023-11-16 15:33:07.258156+00:00                  -111.16  ...   \n",
       "2023-11-16 15:33:08.500423+00:00                  -111.21  ...   \n",
       "2023-11-16 15:33:29.426814+00:00                  -111.14  ...   \n",
       "2023-11-16 15:33:29.530469+00:00                  -111.80  ...   \n",
       "2023-11-16 15:33:33.404938+00:00                  -111.83  ...   \n",
       "\n",
       "                                  private_efdStamp  private_identity  \\\n",
       "2023-11-16 15:33:07.258156+00:00      1.700149e+09              MTM2   \n",
       "2023-11-16 15:33:08.500423+00:00      1.700149e+09              MTM2   \n",
       "2023-11-16 15:33:29.426814+00:00      1.700149e+09              MTM2   \n",
       "2023-11-16 15:33:29.530469+00:00      1.700149e+09              MTM2   \n",
       "2023-11-16 15:33:33.404938+00:00      1.700149e+09              MTM2   \n",
       "\n",
       "                                  private_kafkaStamp  private_origin  \\\n",
       "2023-11-16 15:33:07.258156+00:00        1.700149e+09           52859   \n",
       "2023-11-16 15:33:08.500423+00:00        1.700149e+09           52859   \n",
       "2023-11-16 15:33:29.426814+00:00        1.700149e+09           52859   \n",
       "2023-11-16 15:33:29.530469+00:00        1.700149e+09           52859   \n",
       "2023-11-16 15:33:33.404938+00:00        1.700149e+09           52859   \n",
       "\n",
       "                                  private_rcvStamp private_revCode  \\\n",
       "2023-11-16 15:33:07.258156+00:00      1.700149e+09        b9e7700c   \n",
       "2023-11-16 15:33:08.500423+00:00      1.700149e+09        b9e7700c   \n",
       "2023-11-16 15:33:29.426814+00:00      1.700149e+09        b9e7700c   \n",
       "2023-11-16 15:33:29.530469+00:00      1.700149e+09        b9e7700c   \n",
       "2023-11-16 15:33:33.404938+00:00      1.700149e+09        b9e7700c   \n",
       "\n",
       "                                  private_seqNum  private_sndStamp  \\\n",
       "2023-11-16 15:33:07.258156+00:00         1506349      1.700149e+09   \n",
       "2023-11-16 15:33:08.500423+00:00         1506361      1.700149e+09   \n",
       "2023-11-16 15:33:29.426814+00:00         1506568      1.700149e+09   \n",
       "2023-11-16 15:33:29.530469+00:00         1506569      1.700149e+09   \n",
       "2023-11-16 15:33:33.404938+00:00         1506607      1.700149e+09   \n",
       "\n",
       "                                  sum_TangentFerrorEfd weight_TangentFerrorEfd  \n",
       "2023-11-16 15:33:07.258156+00:00                -18.28                  178.12  \n",
       "2023-11-16 15:33:08.500423+00:00                -18.23                  178.01  \n",
       "2023-11-16 15:33:29.426814+00:00                -17.86                  178.58  \n",
       "2023-11-16 15:33:29.530469+00:00                -20.55                  179.60  \n",
       "2023-11-16 15:33:33.404938+00:00                -16.93                  178.12  \n",
       "\n",
       "[5 rows x 24 columns]"
      ]
     },
     "execution_count": 41,
     "metadata": {},
     "output_type": "execute_result"
    }
   ],
   "source": [
    "match_df.head()"
   ]
  },
  {
   "cell_type": "markdown",
   "id": "d0ff0a9e-fc47-49b2-8d4f-95e5dda54c68",
   "metadata": {},
   "source": [
    "Now we can plot toghether the retrieved Tangent Force Error and the calculated one."
   ]
  },
  {
   "cell_type": "code",
   "execution_count": 42,
   "id": "511e1234-520a-4291-bbb3-0ec144f766f4",
   "metadata": {
    "execution": {
     "iopub.execute_input": "2023-11-21T23:56:06.463501Z",
     "iopub.status.busy": "2023-11-21T23:56:06.463148Z",
     "iopub.status.idle": "2023-11-21T23:56:06.675489Z",
     "shell.execute_reply": "2023-11-21T23:56:06.674665Z",
     "shell.execute_reply.started": "2023-11-21T23:56:06.463473Z"
    }
   },
   "outputs": [
    {
     "data": {
      "image/png": "[encoded data removed]",
      "text/plain": [
       "<Figure size 640x480 with 1 Axes>"
      ]
     },
     "metadata": {},
     "output_type": "display_data"
    }
   ],
   "source": [
    "plt.scatter(match_df.index, match_df.force1_TangentFerrorEfd,\n",
    "           marker='+', c='blue', label='From EFD')\n",
    "plt.scatter(match_df.index, match_df.force1_TangentFerrorCalc,\n",
    "           marker='+', c='orange', label='Calculated')\n",
    "plt.xlabel('TimeStamp')\n",
    "plt.ylabel('Force Error, N')\n",
    "plt.legend()\n",
    "plt.tight_layout()\n",
    "plt.show()"
   ]
  },
  {
   "cell_type": "markdown",
   "id": "6f2cc505-c159-4b47-b81b-acf61319e879",
   "metadata": {},
   "source": [
    "Even though with some offset the two dataset is consistent.\n",
    "With this evidence we are quite confident that the Tangent Measured Force is the source for the calculation that return the Tangent Force Error.\n",
    "\n",
    "But where are gone all the rest of the Tangent Measured Force telemetry data?\n",
    "\n",
    "The scenarios that could explain the inconsistency could be the following:\n",
    "1. The Tangent Force Error telemetry flow the last calculation value until a new one is obtain.\n",
    "2. Many samples of the Tangent Measured Force are missed after the caluclation and they are not published.\n",
    "\n",
    "It is possible to check the first scenario veri easly, controlling how many unique value are present in the Tangent Force Error telemtry retrive from the EFD. If the case 1 is right, the number of unique values in this field should be the same number of the Tangent Measrued Force samples."
   ]
  },
  {
   "cell_type": "code",
   "execution_count": 47,
   "id": "6bfe19a4-0280-4ad3-8c76-b0ec3e6d97ee",
   "metadata": {
    "execution": {
     "iopub.execute_input": "2023-11-22T00:09:04.734083Z",
     "iopub.status.busy": "2023-11-22T00:09:04.733526Z",
     "iopub.status.idle": "2023-11-22T00:09:04.742811Z",
     "shell.execute_reply": "2023-11-22T00:09:04.742101Z",
     "shell.execute_reply.started": "2023-11-22T00:09:04.734054Z"
    }
   },
   "outputs": [
    {
     "data": {
      "text/plain": [
       "2023-11-16 15:33:00.015621+00:00   -111.04\n",
       "2023-11-16 15:33:00.118619+00:00   -111.07\n",
       "2023-11-16 15:33:00.222352+00:00   -111.05\n",
       "2023-11-16 15:33:00.325375+00:00   -111.75\n",
       "2023-11-16 15:33:00.428896+00:00   -110.82\n",
       "                                     ...  \n",
       "2023-11-16 15:35:58.155694+00:00    885.72\n",
       "2023-11-16 15:35:58.361482+00:00    886.45\n",
       "2023-11-16 15:35:59.292586+00:00    884.29\n",
       "2023-11-16 15:35:59.810988+00:00    886.49\n",
       "2023-11-16 15:35:59.914902+00:00    883.48\n",
       "Name: force1, Length: 809, dtype: float64"
      ]
     },
     "execution_count": 47,
     "metadata": {},
     "output_type": "execute_result"
    }
   ],
   "source": [
    "tangent_ferror_from_efd.force1.drop_duplicates()"
   ]
  },
  {
   "cell_type": "code",
   "execution_count": 48,
   "id": "5fbf4efd-cdad-4248-8c3d-565554803bf3",
   "metadata": {
    "execution": {
     "iopub.execute_input": "2023-11-22T00:09:13.415323Z",
     "iopub.status.busy": "2023-11-22T00:09:13.414873Z",
     "iopub.status.idle": "2023-11-22T00:09:13.583822Z",
     "shell.execute_reply": "2023-11-22T00:09:13.583162Z",
     "shell.execute_reply.started": "2023-11-22T00:09:13.415288Z"
    }
   },
   "outputs": [
    {
     "data": {
      "image/png": "[encoded data removed]",
      "text/plain": [
       "<Figure size 640x480 with 1 Axes>"
      ]
     },
     "metadata": {},
     "output_type": "display_data"
    }
   ],
   "source": [
    "plt.scatter(tangent_ferror_from_efd.force1.drop_duplicates().index,\n",
    "            tangent_ferror_from_efd.force1.drop_duplicates(),\n",
    "           marker='+', c='blue', label='From EFD')\n",
    "plt.scatter(calculate_tangent_ferror.index, calculate_tangent_ferror.force1,\n",
    "           marker='+', c='orange', label='Calculated')\n",
    "plt.xlabel('TimeStamp')\n",
    "plt.ylabel('Force Error, N')\n",
    "plt.legend()\n",
    "plt.show()"
   ]
  },
  {
   "cell_type": "markdown",
   "id": "acda2ac1-3cbc-414a-b19f-4ac73e7d90bb",
   "metadata": {},
   "source": [
    "With this analysis we can conclude that the scenario number 1 proposed above is not confirmed and maybe the number 2 could lies on the right way to fix this incosistency in the telemetry published in the EFD."
   ]
  },
  {
   "cell_type": "code",
   "execution_count": null,
   "id": "ee2929a8-0041-41b7-aa02-c6b3310d1332",
   "metadata": {},
   "outputs": [],
   "source": []
  }
 ],
 "metadata": {
  "kernelspec": {
   "display_name": "LSST",
   "language": "python",
   "name": "lsst"
  },
  "language_info": {
   "codemirror_mode": {
    "name": "ipython",
    "version": 3
   },
   "file_extension": ".py",
   "mimetype": "text/x-python",
   "name": "python",
   "nbconvert_exporter": "python",
   "pygments_lexer": "ipython3",
   "version": "3.11.4"
  }
 },
 "nbformat": 4,
 "nbformat_minor": 5
}
